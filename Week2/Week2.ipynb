{
 "cells": [
  {
   "cell_type": "markdown",
   "id": "57dd8d9e",
   "metadata": {},
   "source": [
    "# Exercise 1"
   ]
  },
  {
   "cell_type": "code",
   "execution_count": 14,
   "id": "7b3bc33d",
   "metadata": {},
   "outputs": [
    {
     "data": {
      "text/plain": [
       "array([37, 36, 35, 34, 33, 32, 31, 30, 29, 28, 27, 26, 25, 24, 23, 22, 21,\n",
       "       20, 19, 18, 17, 16, 15, 14, 13, 12])"
      ]
     },
     "execution_count": 14,
     "metadata": {},
     "output_type": "execute_result"
    }
   ],
   "source": [
    "# Ex1: Write a NumPy program to reverse an array (first element becomes last).\n",
    "# Input: [12 13 14 15 16 17 18 19 20 21 22 23 24 25 26 27 28 29 30 31 32 33 34 35 36 37]\n",
    "\n",
    "import numpy as np\n",
    "\n",
    "x = [12, 13, 14, 15, 16, 17, 18, 19, 20, 21, 22, 23, 24, 25, 26, 27, 28, 29, 30, 31, 32, 33, 34, 35, 36, 37]\n",
    "\n",
    "np.flip(x)"
   ]
  },
  {
   "cell_type": "markdown",
   "id": "81480123",
   "metadata": {},
   "source": [
    "# Exercise 2 "
   ]
  },
  {
   "cell_type": "code",
   "execution_count": 29,
   "id": "539714a5",
   "metadata": {},
   "outputs": [
    {
     "data": {
      "text/plain": [
       "array([10, 40])"
      ]
     },
     "execution_count": 29,
     "metadata": {},
     "output_type": "execute_result"
    }
   ],
   "source": [
    "# Ex2: Write a NumPy program to test whether each element of a 1-D array is also present in a second array\n",
    "# Input Array1: [ 0 10 20 40 60]\n",
    "#       Array2: [10, 30, 40]\n",
    "\n",
    "import numpy as np\n",
    "\n",
    "x = np.array([0, 10, 20, 40, 60])\n",
    "y = np.array([10, 30, 40])\n",
    "\n",
    "np.intersect1d(x, y)"
   ]
  },
  {
   "cell_type": "markdown",
   "id": "0376138e",
   "metadata": {},
   "source": [
    "# Exercise 3"
   ]
  },
  {
   "cell_type": "code",
   "execution_count": 38,
   "id": "2080da3c",
   "metadata": {},
   "outputs": [
    {
     "data": {
      "text/plain": [
       "'Max: 7, Min: 5'"
      ]
     },
     "execution_count": 38,
     "metadata": {},
     "output_type": "execute_result"
    }
   ],
   "source": [
    "# Ex3: Write a NumPy program to find the indices of the maximum and minimum values along the given axis of an array\n",
    "# Input Array [1,6,4,8,9,-4,-2,11]\n",
    "\n",
    "import numpy as np\n",
    "\n",
    "x = [1,6,4,8,9,-4,-2,11]\n",
    "\n",
    "f\"Max: {np.argmax(x)}, Min: {np.argmin(x)}\""
   ]
  },
  {
   "cell_type": "markdown",
   "id": "b7b28d2b",
   "metadata": {},
   "source": [
    "# Exercise 4 "
   ]
  },
  {
   "cell_type": "code",
   "execution_count": 75,
   "id": "edc8dca6",
   "metadata": {},
   "outputs": [
    {
     "data": {
      "text/plain": [
       "{'the': 1671, 'and': 872, 'to': 734, 'a': 649, 'it': 595, 'she': 547}"
      ]
     },
     "execution_count": 75,
     "metadata": {},
     "output_type": "execute_result"
    }
   ],
   "source": [
    "# Ex4: Read the entire file story.txt and write a program to print out top 100 words occur most\n",
    "# frequently and their corresponding appearance. You could ignore all\n",
    "# punction characters such as comma, dot, semicolon, ...\n",
    "# Sample output:\n",
    "# house: 453\n",
    "# dog: 440\n",
    "# people: 312\n",
    "# ...\n",
    "\n",
    "import string\n",
    "from collections import Counter\n",
    "\n",
    "###\n",
    "def read_file(file_name):\n",
    "  with open(file_name, 'r') as file:\n",
    "    return file.read()\n",
    "\n",
    "###\n",
    "def filter_punctuation(text):\n",
    "  text = text.lower().replace(\"'s\", '')\n",
    "  for s in string.punctuation:\n",
    "    text = text.replace(s, '')\n",
    "  return text\n",
    "\n",
    "###\n",
    "def sort_by_count(counter):\n",
    "  return sorted(counter.items(), key=lambda x: x[1], reverse=True)\n",
    "\n",
    "###\n",
    "def fetch_top_of_list(list, limit):\n",
    "  top = {}\n",
    "  i = 0\n",
    "  for word, count in list:\n",
    "    top[word] = count\n",
    "    if i >= limit: break\n",
    "    i += 1\n",
    "  return top\n",
    "\n",
    "###\n",
    "def fetch_top_count(words, limit):\n",
    "  counter = Counter(words)\n",
    "  count_list = sort_by_count(counter)\n",
    "  return fetch_top_of_list(count_list, limit)\n",
    "\n",
    "\n",
    "### Main\n",
    "text = read_file('story.txt')\n",
    "words = filter_punctuation(text).split()\n",
    "fetch_top_count(words, 5)\n"
   ]
  }
 ],
 "metadata": {
  "kernelspec": {
   "display_name": "Python 3",
   "language": "python",
   "name": "python3"
  },
  "language_info": {
   "codemirror_mode": {
    "name": "ipython",
    "version": 3
   },
   "file_extension": ".py",
   "mimetype": "text/x-python",
   "name": "python",
   "nbconvert_exporter": "python",
   "pygments_lexer": "ipython3",
   "version": "3.9.6"
  }
 },
 "nbformat": 4,
 "nbformat_minor": 5
}
